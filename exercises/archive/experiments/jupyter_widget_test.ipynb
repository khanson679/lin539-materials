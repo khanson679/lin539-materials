{
 "cells": [
  {
   "cell_type": "code",
   "execution_count": 7,
   "id": "26f3ff86",
   "metadata": {},
   "outputs": [
    {
     "data": {
      "application/vnd.jupyter.widget-view+json": {
       "model_id": "0e3f2a54cfeb480b8af2cf49bd773101",
       "version_major": 2,
       "version_minor": 0
      },
      "text/plain": [
       "Button(description='Click me', style=ButtonStyle(), tooltip='Click me')"
      ]
     },
     "metadata": {},
     "output_type": "display_data"
    }
   ],
   "source": [
    "import ipywidgets as wid\n",
    "\n",
    "def callback(event):\n",
    "    mywid.description = \"you clicked me\"\n",
    "\n",
    "mywid = wid.Button(\n",
    "    description='Click me',\n",
    "    button_style='', # 'success', 'info', 'warning', 'danger' or ''\n",
    "    tooltip='Click me',\n",
    ")\n",
    "mywid.on_click(callback)\n",
    "display(mywid)"
   ]
  },
  {
   "cell_type": "code",
   "execution_count": null,
   "id": "ca42a16b",
   "metadata": {},
   "outputs": [],
   "source": []
  }
 ],
 "metadata": {
  "kernelspec": {
   "display_name": "Python 3",
   "language": "python",
   "name": "python3"
  },
  "language_info": {
   "codemirror_mode": {
    "name": "ipython",
    "version": 3
   },
   "file_extension": ".py",
   "mimetype": "text/x-python",
   "name": "python",
   "nbconvert_exporter": "python",
   "pygments_lexer": "ipython3",
   "version": "3.9.5"
  }
 },
 "nbformat": 4,
 "nbformat_minor": 5
}
